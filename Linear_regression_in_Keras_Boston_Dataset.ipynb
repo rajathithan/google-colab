{
  "nbformat": 4,
  "nbformat_minor": 0,
  "metadata": {
    "colab": {
      "name": "Linear regression in Keras - Boston Dataset.ipynb",
      "provenance": [],
      "authorship_tag": "ABX9TyPDoZLxFjDM+NslDyJ/amt7",
      "include_colab_link": true
    },
    "kernelspec": {
      "name": "python3",
      "display_name": "Python 3"
    },
    "accelerator": "GPU"
  },
  "cells": [
    {
      "cell_type": "markdown",
      "metadata": {
        "id": "view-in-github",
        "colab_type": "text"
      },
      "source": [
        "<a href=\"https://colab.research.google.com/github/rajathithan/google-colab/blob/main/Linear_regression_in_Keras_Boston_Dataset.ipynb\" target=\"_parent\"><img src=\"https://colab.research.google.com/assets/colab-badge.svg\" alt=\"Open In Colab\"/></a>"
      ]
    },
    {
      "cell_type": "markdown",
      "metadata": {
        "id": "u6laaYAsvJLQ"
      },
      "source": [
        "Linear regression in the keras boston dataset"
      ]
    },
    {
      "cell_type": "code",
      "metadata": {
        "id": "_5AYZYUmu7Pt"
      },
      "source": [
        "from tensorflow.keras.models import Sequential\n",
        "from tensorflow.keras.layers import Dense\n",
        "from tensorflow.keras.datasets import boston_housing"
      ],
      "execution_count": 2,
      "outputs": []
    },
    {
      "cell_type": "markdown",
      "metadata": {
        "id": "lfX3cQTVvFnF"
      },
      "source": [
        "\n",
        "\n",
        "```\n",
        "# Now split the training and test dataset\n",
        "```\n",
        "\n"
      ]
    },
    {
      "cell_type": "code",
      "metadata": {
        "colab": {
          "base_uri": "https://localhost:8080/"
        },
        "id": "wwV4aqPTwPNN",
        "outputId": "3149ee1b-cf85-42c4-f9e2-20bc59a1ca9f"
      },
      "source": [
        "(X_train, y_train), (X_test, y_test) = boston_housing.load_data()"
      ],
      "execution_count": 3,
      "outputs": [
        {
          "output_type": "stream",
          "text": [
            "Downloading data from https://storage.googleapis.com/tensorflow/tf-keras-datasets/boston_housing.npz\n",
            "57344/57026 [==============================] - 0s 0us/step\n"
          ],
          "name": "stdout"
        }
      ]
    },
    {
      "cell_type": "code",
      "metadata": {
        "colab": {
          "base_uri": "https://localhost:8080/"
        },
        "id": "QnuTZQTIwjKp",
        "outputId": "47e61e80-75ca-440b-adcd-3091c3a22dc8"
      },
      "source": [
        "print(\"Training set size: \", X_train.shape)\n",
        "print(\"Test set size: \", X_test.shape)\n",
        "print(\"Training example features: \", X_train[0,:])\n",
        "print(\"Training example output: \", y_train[0])"
      ],
      "execution_count": 4,
      "outputs": [
        {
          "output_type": "stream",
          "text": [
            "Training set size:  (404, 13)\n",
            "Test set size:  (102, 13)\n",
            "Training example features:  [  1.23247   0.        8.14      0.        0.538     6.142    91.7\n",
            "   3.9769    4.      307.       21.      396.9      18.72   ]\n",
            "Training example output:  15.2\n"
          ],
          "name": "stdout"
        }
      ]
    },
    {
      "cell_type": "code",
      "metadata": {
        "colab": {
          "base_uri": "https://localhost:8080/"
        },
        "id": "5IMuIQtCw3Zh",
        "outputId": "7220bb82-6270-4218-cc44-5b851c9aebc6"
      },
      "source": [
        "# No of features per row\n",
        "nFeatures = X_train.shape[1]\n",
        "print(nFeatures)"
      ],
      "execution_count": 9,
      "outputs": [
        {
          "output_type": "stream",
          "text": [
            "13\n"
          ],
          "name": "stdout"
        }
      ]
    },
    {
      "cell_type": "code",
      "metadata": {
        "id": "FLFbi0P0xEMw"
      },
      "source": [
        "model = Sequential()\n",
        "model.add(Dense(1, input_shape=(nFeatures,), activation='linear'))"
      ],
      "execution_count": 10,
      "outputs": []
    },
    {
      "cell_type": "code",
      "metadata": {
        "id": "uPR3omivGo8y"
      },
      "source": [
        "model.compile(optimizer='rmsprop', loss='mse', metrics=['mse', 'mae'])"
      ],
      "execution_count": 11,
      "outputs": []
    },
    {
      "cell_type": "markdown",
      "metadata": {
        "id": "MeUaFEL6G9Xj"
      },
      "source": [
        "The output of model.summary() is given below. It shows 14 parameters - 13 parameters for the weights and 1 for the bias."
      ]
    },
    {
      "cell_type": "code",
      "metadata": {
        "colab": {
          "base_uri": "https://localhost:8080/"
        },
        "id": "kW_BGNnaGq9s",
        "outputId": "02d673ac-7148-4674-fa48-8c76de255bd9"
      },
      "source": [
        "model.summary()"
      ],
      "execution_count": 12,
      "outputs": [
        {
          "output_type": "stream",
          "text": [
            "Model: \"sequential_1\"\n",
            "_________________________________________________________________\n",
            "Layer (type)                 Output Shape              Param #   \n",
            "=================================================================\n",
            "dense_1 (Dense)              (None, 1)                 14        \n",
            "=================================================================\n",
            "Total params: 14\n",
            "Trainable params: 14\n",
            "Non-trainable params: 0\n",
            "_________________________________________________________________\n"
          ],
          "name": "stdout"
        }
      ]
    },
    {
      "cell_type": "code",
      "metadata": {
        "colab": {
          "base_uri": "https://localhost:8080/"
        },
        "id": "35cn4hb7HRT6",
        "outputId": "e1d9819e-f863-4204-965d-29dc1697deca"
      },
      "source": [
        "# To see detail output, change verbose to True\n",
        "model.fit(X_train, y_train, batch_size=4, epochs=1000, verbose=False)"
      ],
      "execution_count": 14,
      "outputs": [
        {
          "output_type": "execute_result",
          "data": {
            "text/plain": [
              "<tensorflow.python.keras.callbacks.History at 0x7fc0e01fa0f0>"
            ]
          },
          "metadata": {
            "tags": []
          },
          "execution_count": 14
        }
      ]
    },
    {
      "cell_type": "code",
      "metadata": {
        "colab": {
          "base_uri": "https://localhost:8080/"
        },
        "id": "2TK6KOLAISL3",
        "outputId": "6f9c88cb-131c-4cf8-f2dd-370e55a5837c"
      },
      "source": [
        "model.evaluate(X_test, y_test, verbose=False)"
      ],
      "execution_count": 15,
      "outputs": [
        {
          "output_type": "execute_result",
          "data": {
            "text/plain": [
              "[27.643770217895508, 27.643770217895508, 3.9353601932525635]"
            ]
          },
          "metadata": {
            "tags": []
          },
          "execution_count": 15
        }
      ]
    },
    {
      "cell_type": "code",
      "metadata": {
        "colab": {
          "base_uri": "https://localhost:8080/"
        },
        "id": "KkFUuzlNIguZ",
        "outputId": "6ab1a903-aa0a-4f49-bbc6-1a0e3d6e72d5"
      },
      "source": [
        "y_pred = model.predict(X_test)\n",
        " \n",
        "print(y_test[:5])\n",
        "print(y_pred[:5,0])"
      ],
      "execution_count": 17,
      "outputs": [
        {
          "output_type": "stream",
          "text": [
            "[ 7.2 18.8 19.  27.  22.2]\n",
            "[11.383268 21.689983 23.641644 32.499043 26.086231]\n"
          ],
          "name": "stdout"
        }
      ]
    }
  ]
}